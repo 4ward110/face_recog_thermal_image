{
 "cells": [
  {
   "cell_type": "code",
   "execution_count": 11,
   "id": "044cf036",
   "metadata": {},
   "outputs": [],
   "source": [
    "import os, shutil\n",
    "import tensorflow as tf\n",
    "import numpy as np\n",
    "import matplotlib.pyplot as plt\n",
    "import tensorflow.keras as keras\n",
    "from tensorflow.keras import optimizers\n",
    "from keras import regularizers\n",
    "from keras_preprocessing.image import ImageDataGenerator\n",
    "from tensorflow.keras.models import Sequential\n",
    "from tensorflow.keras.layers import Dense, Activation, Flatten, Dropout, BatchNormalization\n",
    "from tensorflow.keras.layers import Conv2D, MaxPooling2D\n",
    "from tensorflow.keras.preprocessing.image import ImageDataGenerator"
   ]
  },
  {
   "cell_type": "code",
   "execution_count": 12,
   "id": "fd091a85",
   "metadata": {},
   "outputs": [
    {
     "name": "stdout",
     "output_type": "stream",
     "text": [
      "C:/Users/vuduc/Thermal_face_reg/src/data_set/train\n",
      "C:/Users/vuduc/Thermal_face_reg/src/data_set/validation\n",
      "C:/Users/vuduc/Thermal_face_reg/src/data_set/test\n"
     ]
    }
   ],
   "source": [
    "# check image directory \n",
    "\n",
    "base_dir = 'C:/Users/vuduc/Thermal_face_reg/src/data_set/'\n",
    "train_dir = os.path.join(base_dir, 'train')\n",
    "print(train_dir)\n",
    "validation_dir = os.path.join(base_dir, 'validation')\n",
    "print(validation_dir)\n",
    "test_dir = os.path.join(base_dir, 'test')\n",
    "print(test_dir)"
   ]
  },
  {
   "cell_type": "code",
   "execution_count": 13,
   "id": "c3b34c1b",
   "metadata": {},
   "outputs": [],
   "source": [
    "num_class = 4\n",
    "batch = 32\n",
    "weight_decay = 1e-4\n",
    "\n",
    "# propose CNN model\n",
    "model = Sequential()\n",
    "model.add(Conv2D(batch, (3, 3), padding='same', kernel_regularizer=regularizers.l2(weight_decay), input_shape=(72, 96, 1)))\n",
    "model.add(Activation('relu'))\n",
    "model.add(BatchNormalization())\n",
    "model.add(Conv2D(batch, (3, 3), padding='same', kernel_regularizer=regularizers.l2(weight_decay)))\n",
    "model.add(Activation('relu'))\n",
    "model.add(BatchNormalization())\n",
    "model.add(MaxPooling2D(pool_size=(2, 2)))\n",
    "\n",
    "model.add(Conv2D(2*batch, (3, 3), padding='same', kernel_regularizer=regularizers.l2(weight_decay)))\n",
    "model.add(Activation('relu'))\n",
    "model.add(BatchNormalization())\n",
    "model.add(Conv2D(2*batch, (3, 3), padding='same', kernel_regularizer=regularizers.l2(weight_decay)))\n",
    "model.add(Activation('relu'))\n",
    "model.add(BatchNormalization())\n",
    "model.add(MaxPooling2D(pool_size=(2, 2)))\n",
    "\n",
    "model.add(Conv2D(4*batch, (3, 3), padding='same', kernel_regularizer=regularizers.l2(weight_decay)))\n",
    "model.add(Activation('relu'))\n",
    "model.add(BatchNormalization())\n",
    "model.add(Conv2D(4*batch, (3, 3), padding='same', kernel_regularizer=regularizers.l2(weight_decay)))\n",
    "model.add(Activation('relu'))\n",
    "model.add(BatchNormalization())\n",
    "model.add(MaxPooling2D(pool_size=(2, 2)))\n",
    "\n",
    "model.add(Conv2D(8*batch, (3, 3), padding='same', kernel_regularizer=regularizers.l2(weight_decay)))\n",
    "model.add(Activation('relu'))\n",
    "model.add(BatchNormalization())\n",
    "model.add(Conv2D(8*batch, (3, 3), padding='same', kernel_regularizer=regularizers.l2(weight_decay)))\n",
    "model.add(Activation('relu'))\n",
    "model.add(BatchNormalization())\n",
    "model.add(MaxPooling2D(pool_size=(2, 2)))\n",
    "\n",
    "model.add(Flatten())\n",
    "model.add(Dense(num_class, activation='softmax'))\n",
    "# model.summary()\n"
   ]
  },
  {
   "cell_type": "code",
   "execution_count": 14,
   "id": "fffb1848",
   "metadata": {},
   "outputs": [
    {
     "name": "stdout",
     "output_type": "stream",
     "text": [
      "Found 600 images belonging to 4 classes.\n",
      "Found 200 images belonging to 4 classes.\n"
     ]
    }
   ],
   "source": [
    "# training optimize\n",
    "# model.compile(optimizer='adam',loss='sparse_categorical_crossentropy',metrics=['accuracy'])\n",
    "learning_rate = 1e-4\n",
    "momentum = 0.9\n",
    "model.compile(loss='categorical_crossentropy',\n",
    "              optimizer=optimizers.RMSprop(learning_rate=learning_rate, momentum=momentum, decay=1e-6), #Decrease learning rate\n",
    "              metrics=['accuracy'])\n",
    "\n",
    "#Generate batches of tensor image data with real-time data augmentation.\n",
    "\n",
    "# train_datagen = ImageDataGenerator(rescale=1./255,shear_range=0.2,\n",
    "#         zoom_range=0.2,\n",
    "#         horizontal_flip=True)\n",
    "\n",
    "arg = ImageDataGenerator(rotation_range=0.1, zoom_range=0.1, width_shift_range=0.2, height_shift_range=0.2, horizontal_flip=True)\n",
    "\n",
    "train_datagen = ImageDataGenerator(rescale=1./255)\n",
    "test_datagen = ImageDataGenerator(rescale=1./255)\n",
    "\n",
    "train_generator = train_datagen.flow_from_directory(\n",
    "        train_dir, # Target directory\n",
    "        target_size=(72, 96), # resize img to 112x112\n",
    "        batch_size=2, \n",
    "        color_mode='grayscale',\n",
    "        class_mode='categorical')\n",
    "\n",
    "validation_generator = test_datagen.flow_from_directory(\n",
    "        validation_dir,\n",
    "        target_size=(72, 96),\n",
    "        batch_size=2,\n",
    "        color_mode='grayscale',\n",
    "        class_mode='categorical')"
   ]
  },
  {
   "cell_type": "code",
   "execution_count": 15,
   "id": "da14c2a9",
   "metadata": {},
   "outputs": [
    {
     "name": "stdout",
     "output_type": "stream",
     "text": [
      "Epoch 1/40\n",
      "300/300 [==============================] - 33s 106ms/step - loss: 0.8867 - accuracy: 0.8917 - val_loss: 31.0812 - val_accuracy: 0.2500\n",
      "Epoch 2/40\n",
      "300/300 [==============================] - 33s 111ms/step - loss: 0.2832 - accuracy: 0.9700 - val_loss: 1.9713 - val_accuracy: 0.8000\n",
      "Epoch 3/40\n",
      "300/300 [==============================] - 32s 108ms/step - loss: 0.2775 - accuracy: 0.9783 - val_loss: 0.8528 - val_accuracy: 0.8200\n",
      "Epoch 4/40\n",
      "300/300 [==============================] - 32s 108ms/step - loss: 0.0968 - accuracy: 0.9967 - val_loss: 0.6749 - val_accuracy: 0.9150\n",
      "Epoch 5/40\n",
      "300/300 [==============================] - 31s 104ms/step - loss: 0.2228 - accuracy: 0.9850 - val_loss: 0.1367 - val_accuracy: 0.9750\n",
      "Epoch 6/40\n",
      "300/300 [==============================] - 33s 111ms/step - loss: 0.1190 - accuracy: 0.9933 - val_loss: 0.3369 - val_accuracy: 0.9600\n",
      "Epoch 7/40\n",
      "300/300 [==============================] - 31s 103ms/step - loss: 0.0723 - accuracy: 0.9950 - val_loss: 0.2393 - val_accuracy: 0.9750\n",
      "Epoch 8/40\n",
      "300/300 [==============================] - 31s 103ms/step - loss: 0.1387 - accuracy: 0.9883 - val_loss: 1.2551 - val_accuracy: 0.8700\n",
      "Epoch 9/40\n",
      "300/300 [==============================] - 31s 104ms/step - loss: 0.1532 - accuracy: 0.9917 - val_loss: 0.9611 - val_accuracy: 0.9150\n",
      "Epoch 10/40\n",
      "300/300 [==============================] - 37s 124ms/step - loss: 0.0368 - accuracy: 1.0000 - val_loss: 0.2144 - val_accuracy: 0.9800\n",
      "Epoch 11/40\n",
      "300/300 [==============================] - 34s 112ms/step - loss: 0.0254 - accuracy: 1.0000 - val_loss: 0.1446 - val_accuracy: 0.9850\n",
      "Epoch 12/40\n",
      "300/300 [==============================] - 31s 105ms/step - loss: 0.0174 - accuracy: 1.0000 - val_loss: 0.1191 - val_accuracy: 0.9800\n",
      "Epoch 13/40\n",
      "300/300 [==============================] - 32s 107ms/step - loss: 0.0119 - accuracy: 1.0000 - val_loss: 0.1545 - val_accuracy: 0.9800\n",
      "Epoch 14/40\n",
      "300/300 [==============================] - 31s 104ms/step - loss: 0.0081 - accuracy: 1.0000 - val_loss: 0.1312 - val_accuracy: 0.9700\n",
      "Epoch 15/40\n",
      "300/300 [==============================] - 31s 105ms/step - loss: 0.0055 - accuracy: 1.0000 - val_loss: 0.1619 - val_accuracy: 0.9750\n",
      "Epoch 16/40\n",
      "300/300 [==============================] - 31s 104ms/step - loss: 0.1874 - accuracy: 0.9850 - val_loss: 49.5931 - val_accuracy: 0.4500\n",
      "Epoch 17/40\n",
      "300/300 [==============================] - 31s 103ms/step - loss: 0.1345 - accuracy: 0.9767 - val_loss: 0.6114 - val_accuracy: 0.9550\n",
      "Epoch 18/40\n",
      "300/300 [==============================] - 34s 114ms/step - loss: 0.1762 - accuracy: 0.9817 - val_loss: 0.8238 - val_accuracy: 0.9500\n",
      "Epoch 19/40\n",
      "300/300 [==============================] - 41s 136ms/step - loss: 0.0891 - accuracy: 0.9933 - val_loss: 0.1096 - val_accuracy: 0.9900\n",
      "Epoch 20/40\n",
      "300/300 [==============================] - 34s 112ms/step - loss: 0.0446 - accuracy: 0.9933 - val_loss: 0.1873 - val_accuracy: 0.9850\n",
      "Epoch 21/40\n",
      "300/300 [==============================] - 32s 105ms/step - loss: 0.1064 - accuracy: 0.9950 - val_loss: 4.4375 - val_accuracy: 0.7700\n",
      "Epoch 22/40\n",
      "300/300 [==============================] - 33s 110ms/step - loss: 0.0581 - accuracy: 0.9967 - val_loss: 0.7890 - val_accuracy: 0.9250\n",
      "Epoch 23/40\n",
      "300/300 [==============================] - 32s 105ms/step - loss: 0.0439 - accuracy: 0.9950 - val_loss: 0.0694 - val_accuracy: 0.9900\n",
      "Epoch 24/40\n",
      "300/300 [==============================] - 32s 105ms/step - loss: 0.0473 - accuracy: 0.9967 - val_loss: 0.4510 - val_accuracy: 0.9250\n",
      "Epoch 25/40\n",
      "300/300 [==============================] - 33s 110ms/step - loss: 0.2380 - accuracy: 0.9867 - val_loss: 2.7863 - val_accuracy: 0.7350\n",
      "Epoch 26/40\n",
      "300/300 [==============================] - 39s 130ms/step - loss: 0.0581 - accuracy: 0.9933 - val_loss: 5.3900 - val_accuracy: 0.7400\n",
      "Epoch 27/40\n",
      "300/300 [==============================] - 33s 111ms/step - loss: 0.0359 - accuracy: 0.9967 - val_loss: 0.2644 - val_accuracy: 0.9750\n",
      "Epoch 28/40\n",
      "300/300 [==============================] - 36s 119ms/step - loss: 0.0133 - accuracy: 1.0000 - val_loss: 0.2107 - val_accuracy: 0.9750\n",
      "Epoch 29/40\n",
      "300/300 [==============================] - 37s 123ms/step - loss: 0.0091 - accuracy: 1.0000 - val_loss: 0.2075 - val_accuracy: 0.9800\n",
      "Epoch 30/40\n",
      "300/300 [==============================] - 32s 107ms/step - loss: 0.0062 - accuracy: 1.0000 - val_loss: 0.2201 - val_accuracy: 0.9800\n",
      "Epoch 31/40\n",
      "300/300 [==============================] - 33s 109ms/step - loss: 0.0043 - accuracy: 1.0000 - val_loss: 0.2275 - val_accuracy: 0.9800\n",
      "Epoch 32/40\n",
      "300/300 [==============================] - 32s 107ms/step - loss: 0.0029 - accuracy: 1.0000 - val_loss: 0.2536 - val_accuracy: 0.9800\n",
      "Epoch 33/40\n",
      "300/300 [==============================] - 40s 134ms/step - loss: 0.0020 - accuracy: 1.0000 - val_loss: 0.5450 - val_accuracy: 0.9300\n",
      "Epoch 34/40\n",
      "300/300 [==============================] - 32s 107ms/step - loss: 0.4904 - accuracy: 0.9667 - val_loss: 140.5262 - val_accuracy: 0.2450\n",
      "Epoch 35/40\n",
      "300/300 [==============================] - 33s 109ms/step - loss: 0.3704 - accuracy: 0.9733 - val_loss: 4.1226 - val_accuracy: 0.7450\n",
      "Epoch 36/40\n",
      "300/300 [==============================] - 31s 102ms/step - loss: 0.1579 - accuracy: 0.9800 - val_loss: 1.5877 - val_accuracy: 0.8700\n",
      "Epoch 37/40\n",
      "300/300 [==============================] - 31s 102ms/step - loss: 0.2931 - accuracy: 0.9817 - val_loss: 5.9012 - val_accuracy: 0.7800\n",
      "Epoch 38/40\n",
      "300/300 [==============================] - 32s 106ms/step - loss: 0.1857 - accuracy: 0.9833 - val_loss: 0.3107 - val_accuracy: 0.9600\n",
      "Epoch 39/40\n",
      "300/300 [==============================] - 32s 107ms/step - loss: 0.0225 - accuracy: 1.0000 - val_loss: 0.1517 - val_accuracy: 0.9600\n",
      "Epoch 40/40\n",
      "300/300 [==============================] - 31s 104ms/step - loss: 0.0410 - accuracy: 0.9967 - val_loss: 0.4571 - val_accuracy: 0.9600\n"
     ]
    }
   ],
   "source": [
    "#Training and validation\n",
    "\n",
    "history = model.fit(\n",
    "      train_generator,\n",
    "      batch_size=32, \n",
    "      epochs= 40,\n",
    "      validation_data=validation_generator,\n",
    "      validation_steps=100)"
   ]
  },
  {
   "cell_type": "code",
   "execution_count": 10,
   "id": "8bdc5aaf",
   "metadata": {},
   "outputs": [
    {
     "data": {
      "image/png": "[encoded data removed]",
      "text/plain": [
       "<Figure size 432x288 with 1 Axes>"
      ]
     },
     "metadata": {
      "needs_background": "light"
     },
     "output_type": "display_data"
    },
    {
     "data": {
      "image/png": "[encoded data removed]",
      "text/plain": [
       "<Figure size 432x288 with 1 Axes>"
      ]
     },
     "metadata": {
      "needs_background": "light"
     },
     "output_type": "display_data"
    }
   ],
   "source": [
    "#Plot of the loss and accuracy during training\n",
    "\n",
    "acc = history.history['accuracy']\n",
    "val_acc = history.history['val_accuracy']\n",
    "loss = history.history['loss']\n",
    "val_loss = history.history['val_loss']\n",
    "\n",
    "epochs = range(len(acc))\n",
    "\n",
    "plt.plot(epochs, acc, 'bo', label='Training acc')\n",
    "plt.plot(epochs, val_acc, 'b', label='Validation acc')\n",
    "plt.title('Training and validation accuracy')\n",
    "plt.legend()\n",
    "\n",
    "plt.figure()\n",
    "\n",
    "plt.plot(epochs, loss, 'bo', label='Training loss')\n",
    "plt.plot(epochs, val_loss, 'b', label='Validation loss')\n",
    "plt.title('Training and validation loss')\n",
    "plt.legend()\n",
    "\n",
    "plt.show()"
   ]
  },
  {
   "cell_type": "code",
   "execution_count": 7,
   "id": "17d486fe",
   "metadata": {},
   "outputs": [
    {
     "name": "stdout",
     "output_type": "stream",
     "text": [
      "Found 120 images belonging to 4 classes.\n",
      "30/30 [==============================] - 1s 21ms/step - loss: 1.0807 - accuracy: 0.9000\n"
     ]
    }
   ],
   "source": [
    "#Test stage\n",
    "test_generator = test_datagen.flow_from_directory(\n",
    "        test_dir,\n",
    "        target_size=(72, 96),\n",
    "        batch_size=2,\n",
    "        color_mode='grayscale',\n",
    "        class_mode='categorical')\n",
    "\n",
    "test_loss, test_acc = model.evaluate(test_generator, steps=30)"
   ]
  },
  {
   "cell_type": "code",
   "execution_count": null,
   "id": "a1d5182f",
   "metadata": {},
   "outputs": [],
   "source": []
  }
 ],
 "metadata": {
  "kernelspec": {
   "display_name": "Python 3",
   "language": "python",
   "name": "python3"
  },
  "language_info": {
   "codemirror_mode": {
    "name": "ipython",
    "version": 3
   },
   "file_extension": ".py",
   "mimetype": "text/x-python",
   "name": "python",
   "nbconvert_exporter": "python",
   "pygments_lexer": "ipython3",
   "version": "3.8.8"
  }
 },
 "nbformat": 4,
 "nbformat_minor": 5
}
